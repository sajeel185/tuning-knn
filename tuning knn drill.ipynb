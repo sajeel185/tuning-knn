{
 "cells": [
  {
   "cell_type": "markdown",
   "metadata": {},
   "source": [
    "## Problem:\n",
    "\n",
    "Let's say we work at a credit card company and we're trying to figure out if people are going to pay their bills on time. We have everyone's purchases, split into four main categories: groceries, dining out, utilities, and entertainment. What are some ways you might use KNN to create this model? What aspects of KNN would be useful? Write up your thoughts in submit a link below."
   ]
  },
  {
   "cell_type": "markdown",
   "metadata": {},
   "source": [
    "## Solution:\n",
    "\n",
    "If we were to create a model using KNN for this particular situation, I would firstly normalize the values of our independent variables (groceries, dining out, utilities, and entertainment) using z-scores, because these variables are continuous.  Since we want to predict creditworthiness of an individual by comparing his/her info with information from past individuals records, I would also include the weights parameter in our model because it would make sense to give those datapoints that are closest to our test datapoint more votes (weight) in our prediction.\n",
    "\n",
    "I could also build a couple of different variations of our model; one with a small number of k (such as four, to correspond with the number of observations in our data), and one with a higher number of k (such as eight) to allow for a smoother decision field for our prediction."
   ]
  }
 ],
 "metadata": {
  "kernelspec": {
   "display_name": "Python 3",
   "language": "python",
   "name": "python3"
  },
  "language_info": {
   "codemirror_mode": {
    "name": "ipython",
    "version": 3
   },
   "file_extension": ".py",
   "mimetype": "text/x-python",
   "name": "python",
   "nbconvert_exporter": "python",
   "pygments_lexer": "ipython3",
   "version": "3.7.0"
  }
 },
 "nbformat": 4,
 "nbformat_minor": 2
}
